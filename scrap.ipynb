{
 "cells": [
  {
   "cell_type": "markdown",
   "id": "61970e3b",
   "metadata": {},
   "source": [
    "# Test"
   ]
  },
  {
   "cell_type": "code",
   "execution_count": 109,
   "id": "463238c8-91f2-460b-9204-94c90b68687c",
   "metadata": {},
   "outputs": [],
   "source": [
    "from bs4 import BeautifulSoup\n",
    "import requests\n",
    "\n",
    "folder_name = 'portrait2022'\n",
    "\n",
    "URL = \"https://www.missgrandthailand.com/\" + folder_name\n",
    "url = requests.get(URL)\n",
    "soup = BeautifulSoup(url.content, \"html.parser\")"
   ]
  },
  {
   "cell_type": "code",
   "execution_count": 110,
   "id": "0b9e3470-917d-4d4a-917f-5fb81b0881b3",
   "metadata": {
    "tags": []
   },
   "outputs": [
    {
     "name": "stdout",
     "output_type": "stream",
     "text": [
      "plz check your folder\n"
     ]
    }
   ],
   "source": [
    "import os\n",
    "try:\n",
    "    os.mkdir(folder_name)\n",
    "    print('finish')\n",
    "except:\n",
    "    print('plz check your folder')"
   ]
  },
  {
   "cell_type": "code",
   "execution_count": 111,
   "id": "1cb49b49-04ae-4192-b568-05190e713f0e",
   "metadata": {},
   "outputs": [],
   "source": [
    "datas = soup.find_all(\"div\",{\"class\":\"item-link-wrapper\"})"
   ]
  },
  {
   "cell_type": "code",
   "execution_count": 115,
   "id": "80032dcb-2797-400f-bd17-d59bdf1ec843",
   "metadata": {},
   "outputs": [],
   "source": [
    "\n"
   ]
  },
  {
   "cell_type": "code",
   "execution_count": null,
   "id": "a40e9a18-7efc-4189-9a89-830863370548",
   "metadata": {},
   "outputs": [],
   "source": []
  },
  {
   "cell_type": "code",
   "execution_count": null,
   "id": "ce497dc4-fb8c-4775-a9c7-2bb5beca1ed5",
   "metadata": {},
   "outputs": [],
   "source": []
  },
  {
   "cell_type": "markdown",
   "id": "a5409f5c",
   "metadata": {},
   "source": [
    "# Run Scrap image from missgrand web"
   ]
  },
  {
   "cell_type": "code",
   "execution_count": 7,
   "id": "49273f56-68cd-4219-a38d-dc8bde127b03",
   "metadata": {},
   "outputs": [
    {
     "name": "stdout",
     "output_type": "stream",
     "text": [
      "plz check your folder\n",
      "75\n"
     ]
    },
    {
     "name": "stderr",
     "output_type": "stream",
     "text": [
      "100%|██████████| 75/75 [01:34<00:00,  1.26s/it]\n"
     ]
    }
   ],
   "source": [
    "from selenium import webdriver\n",
    "from bs4 import BeautifulSoup\n",
    "import requests\n",
    "import time\n",
    "import os\n",
    "from tqdm import tqdm\n",
    "\n",
    "def scrap(folder_name, datas):\n",
    "    print(len(datas))\n",
    "\n",
    "    idd_arr = []\n",
    "    img_arr = []\n",
    "\n",
    "    for data in tqdm(datas):\n",
    "        item = data.find_all(\"div\")\n",
    "        idd = item[0].get(\"data-idx\")\n",
    "        # item[0].find_all(\"source\")[2].get(\"srcset\") ### 2022-2019\n",
    "        # item[0].find_all(\"source\")[1].get(\"srcset\") ###2018 & Selenium\n",
    "\n",
    "        list_img = item[0].find_all(\"source\")[1].get(\"srcset\")\n",
    "\n",
    "        idd_arr.append(idd_arr)\n",
    "        img_arr.append(list_img)\n",
    "\n",
    "        img_path = list_img.split(' ')[8]\n",
    "\n",
    "        img_data = requests.get(img_path).content\n",
    "        with open(folder_name + '/MG_'+ str(int(idd) + 1) + '.jpg', 'wb') as handler:\n",
    "            handler.write(img_data)\n",
    "\n",
    "\n",
    "            \n",
    "folder_name = 'welcomeceremony-2018'\n",
    "URL = \"https://www.missgrandthailand.com/\" + folder_name\n",
    "\n",
    "browser = webdriver.Chrome()\n",
    "browser.get(URL)\n",
    "\n",
    "SCROLL_PAUSE_TIME = 0.5\n",
    "\n",
    "# Get scroll height\n",
    "last_height = browser.execute_script(\"return document.body.scrollHeight\")\n",
    "time.sleep(2)\n",
    "\n",
    "while True:\n",
    "    # Scroll down to bottom\n",
    "    browser.execute_script(\"window.scrollTo(0, document.body.scrollHeight);\")\n",
    "    # browser.execute_script(\"window.scrollBy(0,1000)\",\"\")\n",
    "    time.sleep(2)\n",
    "    browser.execute_script(\"window.scrollBy(0,-1000)\",\"\")\n",
    "    # Wait to load page\n",
    "    time.sleep(SCROLL_PAUSE_TIME)\n",
    "    \n",
    "    # Calculate new scroll height and compare with last scroll height\n",
    "    new_height = browser.execute_script(\"return document.body.scrollHeight\")\n",
    "    if new_height == last_height:\n",
    "        break\n",
    "    last_height = new_height\n",
    "\n",
    "\n",
    "ps = browser.page_source\n",
    "soup = BeautifulSoup(ps, \"html.parser\")\n",
    "datas = soup.find_all(\"div\",{\"class\":\"item-link-wrapper\"})\n",
    "\n",
    "\n",
    "try:\n",
    "    os.mkdir(folder_name)\n",
    "    print('finish')\n",
    "except:\n",
    "    print('plz check your folder')\n",
    "scrap(folder_name, datas)"
   ]
  },
  {
   "cell_type": "code",
   "execution_count": null,
   "id": "2359c106",
   "metadata": {},
   "outputs": [],
   "source": []
  },
  {
   "cell_type": "code",
   "execution_count": null,
   "id": "aacc2369",
   "metadata": {},
   "outputs": [],
   "source": []
  },
  {
   "cell_type": "code",
   "execution_count": null,
   "id": "32a03ec8",
   "metadata": {},
   "outputs": [],
   "source": []
  },
  {
   "cell_type": "markdown",
   "id": "1a556a3d",
   "metadata": {},
   "source": [
    "# Test find tag image"
   ]
  },
  {
   "cell_type": "code",
   "execution_count": 104,
   "id": "c2e4aab3-60ba-49c1-8b4c-e7cdcbcccc80",
   "metadata": {},
   "outputs": [],
   "source": [
    "from bs4 import BeautifulSoup\n",
    "import requests\n",
    "soup = BeautifulSoup(ps, \"html.parser\")"
   ]
  },
  {
   "cell_type": "code",
   "execution_count": 105,
   "id": "3521a7c7-826b-45b8-9929-f0e9ab19eaa1",
   "metadata": {},
   "outputs": [],
   "source": [
    "datas = soup.find_all(\"div\",{\"class\":\"item-link-wrapper\"})\n",
    "item = datas[1].find_all(\"div\")\n",
    "idd = item[0].get(\"data-idx\")\n",
    "list_img = item[0].find_all(\"source\")[1].get(\"srcset\")"
   ]
  },
  {
   "cell_type": "code",
   "execution_count": 107,
   "id": "45971fe5-65ac-4245-b1f5-c3ec2d736a00",
   "metadata": {},
   "outputs": [
    {
     "name": "stdout",
     "output_type": "stream",
     "text": [
      "76\n"
     ]
    },
    {
     "data": {
      "text/plain": [
       "[<source srcset=\"https://static.wixstatic.com/media/c0a8c5_12f38facb93c47b982d1982999d9d620~mv2.jpg/v1/fill/w_194,h_276,q_90/c0a8c5_12f38facb93c47b982d1982999d9d620~mv2.webp 1x, https://static.wixstatic.com/media/c0a8c5_12f38facb93c47b982d1982999d9d620~mv2.jpg/v1/fill/w_388,h_552,q_90/c0a8c5_12f38facb93c47b982d1982999d9d620~mv2.webp 2x, https://static.wixstatic.com/media/c0a8c5_12f38facb93c47b982d1982999d9d620~mv2.jpg/v1/fill/w_400,h_569,q_90/c0a8c5_12f38facb93c47b982d1982999d9d620~mv2.webp 3x, https://static.wixstatic.com/media/c0a8c5_12f38facb93c47b982d1982999d9d620~mv2.jpg/v1/fill/w_400,h_569,q_90/c0a8c5_12f38facb93c47b982d1982999d9d620~mv2.webp 4x, https://static.wixstatic.com/media/c0a8c5_12f38facb93c47b982d1982999d9d620~mv2.jpg/v1/fill/w_400,h_569,q_90/c0a8c5_12f38facb93c47b982d1982999d9d620~mv2.webp 5x\" type=\"image/webp\"/>,\n",
       " <source srcset=\"https://static.wixstatic.com/media/c0a8c5_12f38facb93c47b982d1982999d9d620~mv2.jpg/v1/fill/w_194,h_276,q_90/c0a8c5_12f38facb93c47b982d1982999d9d620~mv2.jpg 1x, https://static.wixstatic.com/media/c0a8c5_12f38facb93c47b982d1982999d9d620~mv2.jpg/v1/fill/w_388,h_552,q_90/c0a8c5_12f38facb93c47b982d1982999d9d620~mv2.jpg 2x, https://static.wixstatic.com/media/c0a8c5_12f38facb93c47b982d1982999d9d620~mv2.jpg/v1/fill/w_400,h_569,q_90/c0a8c5_12f38facb93c47b982d1982999d9d620~mv2.jpg 3x, https://static.wixstatic.com/media/c0a8c5_12f38facb93c47b982d1982999d9d620~mv2.jpg/v1/fill/w_400,h_569,q_90/c0a8c5_12f38facb93c47b982d1982999d9d620~mv2.jpg 4x, https://static.wixstatic.com/media/c0a8c5_12f38facb93c47b982d1982999d9d620~mv2.jpg/v1/fill/w_400,h_569,q_90/c0a8c5_12f38facb93c47b982d1982999d9d620~mv2.jpg 5x\" type=\"image/jpeg\"/>]"
      ]
     },
     "execution_count": 107,
     "metadata": {},
     "output_type": "execute_result"
    }
   ],
   "source": [
    "print(len(datas))\n",
    "item[0].find_all(\"source\")\n",
    "# item[71].find_all(\"source\")"
   ]
  },
  {
   "cell_type": "code",
   "execution_count": 47,
   "id": "f01db9aa-2cc3-4769-b686-634840784163",
   "metadata": {},
   "outputs": [
    {
     "data": {
      "text/plain": [
       "'https://static.wixstatic.com/media/c0a8c5_5adbf0ab69704f4baca71757faf163c7~mv2.jpg/v1/fill/w_185,h_328,q_90/c0a8c5_5adbf0ab69704f4baca71757faf163c7~mv2.jpg 1x, https://static.wixstatic.com/media/c0a8c5_5adbf0ab69704f4baca71757faf163c7~mv2.jpg/v1/fill/w_370,h_656,q_90/c0a8c5_5adbf0ab69704f4baca71757faf163c7~mv2.jpg 2x, https://static.wixstatic.com/media/c0a8c5_5adbf0ab69704f4baca71757faf163c7~mv2.jpg/v1/fill/w_459,h_813,q_90/c0a8c5_5adbf0ab69704f4baca71757faf163c7~mv2.jpg 3x, https://static.wixstatic.com/media/c0a8c5_5adbf0ab69704f4baca71757faf163c7~mv2.jpg/v1/fill/w_459,h_813,q_90/c0a8c5_5adbf0ab69704f4baca71757faf163c7~mv2.jpg 4x, https://static.wixstatic.com/media/c0a8c5_5adbf0ab69704f4baca71757faf163c7~mv2.jpg/v1/fill/w_459,h_813,q_90/c0a8c5_5adbf0ab69704f4baca71757faf163c7~mv2.jpg 5x'"
      ]
     },
     "execution_count": 47,
     "metadata": {},
     "output_type": "execute_result"
    }
   ],
   "source": [
    "list_img"
   ]
  },
  {
   "cell_type": "code",
   "execution_count": null,
   "id": "dc93cf31-6e0d-40f0-9ede-3939774b9e28",
   "metadata": {},
   "outputs": [],
   "source": []
  },
  {
   "cell_type": "code",
   "execution_count": null,
   "id": "377a8ca3-3c25-42ea-9fa9-f91ff753de30",
   "metadata": {},
   "outputs": [],
   "source": []
  },
  {
   "cell_type": "code",
   "execution_count": null,
   "id": "93ca853f-f3ac-4c89-9feb-1f5690e5f186",
   "metadata": {},
   "outputs": [],
   "source": []
  },
  {
   "cell_type": "code",
   "execution_count": null,
   "id": "87f95382-9419-4de1-95bb-789a4500c599",
   "metadata": {},
   "outputs": [],
   "source": []
  },
  {
   "cell_type": "code",
   "execution_count": null,
   "id": "9e88c06a-caa0-481e-b330-62ce7fbfb85c",
   "metadata": {},
   "outputs": [],
   "source": []
  },
  {
   "cell_type": "code",
   "execution_count": null,
   "id": "a2ce5ab0-e948-43c0-ba73-9f5235278d72",
   "metadata": {},
   "outputs": [],
   "source": []
  },
  {
   "cell_type": "code",
   "execution_count": null,
   "id": "8016740b-486f-4e95-988b-19b47241b76f",
   "metadata": {},
   "outputs": [],
   "source": []
  },
  {
   "cell_type": "code",
   "execution_count": null,
   "id": "1bd08907-0450-4057-99a7-5f8a9035a895",
   "metadata": {},
   "outputs": [],
   "source": []
  },
  {
   "cell_type": "code",
   "execution_count": null,
   "id": "fc09a42e-1c78-4a6e-a0ee-ad50107a73c9",
   "metadata": {},
   "outputs": [],
   "source": [
    "re.match(r'(ftp|http)://.*\\.(jpg|png)$', s)"
   ]
  },
  {
   "cell_type": "code",
   "execution_count": 199,
   "id": "fc49e1e9-16d9-44c0-9b1a-7fcfac8ed0ee",
   "metadata": {},
   "outputs": [
    {
     "name": "stdout",
     "output_type": "stream",
     "text": [
      "None\n"
     ]
    }
   ],
   "source": [
    "import re\n",
    "\n",
    "s = \"ftp://www.somewhere.com/over/the/rainbow/image.jpg\"\n",
    "print(re.search(r'https://.*\\.5x$' ,img_arr[24]))\n"
   ]
  },
  {
   "cell_type": "code",
   "execution_count": 200,
   "id": "c618c495-1bea-4ed1-8407-15e7a681d0df",
   "metadata": {},
   "outputs": [
    {
     "ename": "AttributeError",
     "evalue": "'NoneType' object has no attribute 'group'",
     "output_type": "error",
     "traceback": [
      "\u001b[1;31m---------------------------------------------------------------------------\u001b[0m",
      "\u001b[1;31mAttributeError\u001b[0m                            Traceback (most recent call last)",
      "\u001b[1;32m~\\AppData\\Local\\Temp\\ipykernel_10080\\1011033766.py\u001b[0m in \u001b[0;36m<module>\u001b[1;34m\u001b[0m\n\u001b[0;32m      2\u001b[0m \u001b[1;33m\u001b[0m\u001b[0m\n\u001b[0;32m      3\u001b[0m \u001b[0ms\u001b[0m \u001b[1;33m=\u001b[0m \u001b[1;34m\"ftp://www.somewhere.com/over/the/rainbow/image.jpg\"\u001b[0m\u001b[1;33m\u001b[0m\u001b[1;33m\u001b[0m\u001b[0m\n\u001b[1;32m----> 4\u001b[1;33m \u001b[0mprint\u001b[0m\u001b[1;33m(\u001b[0m\u001b[0mre\u001b[0m\u001b[1;33m.\u001b[0m\u001b[0msearch\u001b[0m\u001b[1;33m(\u001b[0m\u001b[1;34m\"^over.*\\.jpg$\"\u001b[0m\u001b[1;33m,\u001b[0m \u001b[0ms\u001b[0m\u001b[1;33m)\u001b[0m\u001b[1;33m.\u001b[0m\u001b[0mgroup\u001b[0m\u001b[1;33m(\u001b[0m\u001b[1;36m0\u001b[0m\u001b[1;33m)\u001b[0m\u001b[1;33m)\u001b[0m\u001b[1;33m\u001b[0m\u001b[1;33m\u001b[0m\u001b[0m\n\u001b[0m",
      "\u001b[1;31mAttributeError\u001b[0m: 'NoneType' object has no attribute 'group'"
     ]
    }
   ],
   "source": [
    "import re\n",
    "\n",
    "s = \"ftp://www.somewhere.com/over/the/rainbow/image.jpg\"\n",
    "print(re.search(\"^over.*\\.jpg$\", s).group(0))"
   ]
  },
  {
   "cell_type": "code",
   "execution_count": null,
   "id": "7f93d0c7-badf-4630-95fd-b3e7e8d4eaf7",
   "metadata": {},
   "outputs": [],
   "source": []
  },
  {
   "cell_type": "code",
   "execution_count": null,
   "id": "3580cbf6-4a26-4e6b-9377-f61390d2248c",
   "metadata": {},
   "outputs": [],
   "source": []
  },
  {
   "cell_type": "code",
   "execution_count": 160,
   "id": "8eb9839d-bea6-4fbc-b22f-e9e3730afea9",
   "metadata": {},
   "outputs": [
    {
     "data": {
      "text/plain": [
       "<div aria-label=\"02.jpg\" class=\"gallery-item-container has-custom-focus visible clickable\" data-hash=\"23f6cc1e-1c91-4f19-94a2-1bda85458a4c\" data-hook=\"item-container\" data-id=\"23f6cc1e-1c91-4f19-94a2-1bda85458a4c\" data-idx=\"1\" id=\"pgi23f6cc1e1c914f1994a21bda85458a4c_1\" role=\"button\" style=\"overflow-y:hidden;position:absolute;bottom:auto;margin:0;cursor:;top:0;left:197px;right:auto;width:194px;height:276px;overflow:hidden;transition:opacity .2s ease;opacity:0;display:none\" tabindex=\"-1\"><div><div class=\"gallery-item-wrapper visible\" data-hook=\"item-wrapper\" id=\"item-wrapper-23f6cc1e-1c91-4f19-94a2-1bda85458a4c\" style=\"background-color:none;height:276px;width:194px;margin:0px\"><div class=\"gallery-item-content image-item gallery-item-visible gallery-item gallery-item-preloaded load-with-color\" data-hook=\"image-item\" style=\"width:194px;height:276px;margin-top:0;margin-left:0\"><picture><source srcset=\"https://static.wixstatic.com/media/c0a8c5_12f38facb93c47b982d1982999d9d620~mv2.jpg/v1/fit/w_194,h_276,q_90/c0a8c5_12f38facb93c47b982d1982999d9d620~mv2.webp 1x, https://static.wixstatic.com/media/c0a8c5_12f38facb93c47b982d1982999d9d620~mv2.jpg/v1/fit/w_388,h_552,q_90/c0a8c5_12f38facb93c47b982d1982999d9d620~mv2.webp 2x, https://static.wixstatic.com/media/c0a8c5_12f38facb93c47b982d1982999d9d620~mv2.jpg/v1/fit/w_400,h_569,q_90/c0a8c5_12f38facb93c47b982d1982999d9d620~mv2.webp 3x, https://static.wixstatic.com/media/c0a8c5_12f38facb93c47b982d1982999d9d620~mv2.jpg/v1/fit/w_400,h_569,q_90/c0a8c5_12f38facb93c47b982d1982999d9d620~mv2.webp 4x, https://static.wixstatic.com/media/c0a8c5_12f38facb93c47b982d1982999d9d620~mv2.jpg/v1/fit/w_400,h_569,q_90/c0a8c5_12f38facb93c47b982d1982999d9d620~mv2.webp 5x\" type=\"image/webp\"/><source srcset=\"https://static.wixstatic.com/media/c0a8c5_12f38facb93c47b982d1982999d9d620~mv2.jpg/v1/fit/w_194,h_276,q_90/c0a8c5_12f38facb93c47b982d1982999d9d620~mv2.jpg 1x, https://static.wixstatic.com/media/c0a8c5_12f38facb93c47b982d1982999d9d620~mv2.jpg/v1/fit/w_388,h_552,q_90/c0a8c5_12f38facb93c47b982d1982999d9d620~mv2.jpg 2x, https://static.wixstatic.com/media/c0a8c5_12f38facb93c47b982d1982999d9d620~mv2.jpg/v1/fit/w_400,h_569,q_90/c0a8c5_12f38facb93c47b982d1982999d9d620~mv2.jpg 3x, https://static.wixstatic.com/media/c0a8c5_12f38facb93c47b982d1982999d9d620~mv2.jpg/v1/fit/w_400,h_569,q_90/c0a8c5_12f38facb93c47b982d1982999d9d620~mv2.jpg 4x, https://static.wixstatic.com/media/c0a8c5_12f38facb93c47b982d1982999d9d620~mv2.jpg/v1/fit/w_400,h_569,q_90/c0a8c5_12f38facb93c47b982d1982999d9d620~mv2.jpg 5x\" type=\"image/jpeg\"/><img alt=\"02.jpg\" class=\"gallery-item-visible gallery-item gallery-item-preloaded\" data-hook=\"gallery-item-image-img\" data-idx=\"1\" loading=\"lazy\" src=\"https://static.wixstatic.com/media/c0a8c5_12f38facb93c47b982d1982999d9d620~mv2.jpg/v1/fill/w_194,h_276,q_90/c0a8c5_12f38facb93c47b982d1982999d9d620~mv2.jpg\" style=\"width:100%;height:100%\"/></picture></div></div></div></div>"
      ]
     },
     "execution_count": 160,
     "metadata": {},
     "output_type": "execute_result"
    }
   ],
   "source": [
    "a = data[1].find_all(\"div\")\n",
    "a[0]\n",
    "\n",
    "# a.find_all(\"div\")"
   ]
  },
  {
   "cell_type": "code",
   "execution_count": 181,
   "id": "833614c3-ca0d-40f2-bb9d-698ed9b64e75",
   "metadata": {},
   "outputs": [
    {
     "data": {
      "text/plain": [
       "'1'"
      ]
     },
     "execution_count": 181,
     "metadata": {},
     "output_type": "execute_result"
    }
   ],
   "source": [
    "a[0].get(\"data-idx\")"
   ]
  },
  {
   "cell_type": "code",
   "execution_count": 183,
   "id": "1a75a8ce-6d66-4640-a537-4ca82050ef03",
   "metadata": {},
   "outputs": [],
   "source": [
    "# a[0].get(\"srcset\")"
   ]
  },
  {
   "cell_type": "code",
   "execution_count": 163,
   "id": "19d501a8-91c4-4c91-9f01-ff421d1ce5af",
   "metadata": {},
   "outputs": [
    {
     "data": {
      "text/plain": [
       "'https://static.wixstatic.com/media/c0a8c5_12f38facb93c47b982d1982999d9d620~mv2.jpg/v1/fit/w_194,h_276,q_90/c0a8c5_12f38facb93c47b982d1982999d9d620~mv2.jpg 1x, https://static.wixstatic.com/media/c0a8c5_12f38facb93c47b982d1982999d9d620~mv2.jpg/v1/fit/w_388,h_552,q_90/c0a8c5_12f38facb93c47b982d1982999d9d620~mv2.jpg 2x, https://static.wixstatic.com/media/c0a8c5_12f38facb93c47b982d1982999d9d620~mv2.jpg/v1/fit/w_400,h_569,q_90/c0a8c5_12f38facb93c47b982d1982999d9d620~mv2.jpg 3x, https://static.wixstatic.com/media/c0a8c5_12f38facb93c47b982d1982999d9d620~mv2.jpg/v1/fit/w_400,h_569,q_90/c0a8c5_12f38facb93c47b982d1982999d9d620~mv2.jpg 4x, https://static.wixstatic.com/media/c0a8c5_12f38facb93c47b982d1982999d9d620~mv2.jpg/v1/fit/w_400,h_569,q_90/c0a8c5_12f38facb93c47b982d1982999d9d620~mv2.jpg 5x'"
      ]
     },
     "execution_count": 163,
     "metadata": {},
     "output_type": "execute_result"
    }
   ],
   "source": [
    "# a[0].find_all(\"source\")[2].get(\"srcset\") ### 2022-2019\n",
    "a[0].find_all(\"source\")[1].get(\"srcset\") ###2018"
   ]
  },
  {
   "cell_type": "code",
   "execution_count": 169,
   "id": "5c91568a-e6f4-4d43-83a2-b65dce59036e",
   "metadata": {},
   "outputs": [],
   "source": [
    "img_data = requests.get('https://static.wixstatic.com/media/c0a8c5_12f38facb93c47b982d1982999d9d620~mv2.jpg/v1/fit/w_400,h_569,q_90/c0a8c5_12f38facb93c47b982d1982999d9d620~mv2.jpg').content\n",
    "with open('image_name.jpg', 'wb') as handler:\n",
    "    handler.write(img_data)"
   ]
  },
  {
   "cell_type": "code",
   "execution_count": 14,
   "id": "aae21681-e8b0-4bf4-8d58-bf4916573c8f",
   "metadata": {},
   "outputs": [
    {
     "ename": "AttributeError",
     "evalue": "'Response' object has no attribute 'type'",
     "output_type": "error",
     "traceback": [
      "\u001b[1;31m---------------------------------------------------------------------------\u001b[0m",
      "\u001b[1;31mAttributeError\u001b[0m                            Traceback (most recent call last)",
      "\u001b[1;32m~\\AppData\\Local\\Temp\\ipykernel_10080\\2168388092.py\u001b[0m in \u001b[0;36m<module>\u001b[1;34m\u001b[0m\n\u001b[0;32m      7\u001b[0m \u001b[1;33m\u001b[0m\u001b[0m\n\u001b[0;32m      8\u001b[0m \u001b[0murl\u001b[0m \u001b[1;33m=\u001b[0m \u001b[0mrequests\u001b[0m\u001b[1;33m.\u001b[0m\u001b[0mget\u001b[0m\u001b[1;33m(\u001b[0m\u001b[1;34m\"https://www.missgrandthailand.com/portrait2019\"\u001b[0m\u001b[1;33m)\u001b[0m\u001b[1;33m\u001b[0m\u001b[1;33m\u001b[0m\u001b[0m\n\u001b[1;32m----> 9\u001b[1;33m \u001b[0msoup\u001b[0m \u001b[1;33m=\u001b[0m \u001b[0mBeautifulSoup\u001b[0m\u001b[1;33m(\u001b[0m\u001b[0murlopen\u001b[0m\u001b[1;33m(\u001b[0m\u001b[0murl\u001b[0m\u001b[1;33m)\u001b[0m\u001b[1;33m.\u001b[0m\u001b[0mread\u001b[0m\u001b[1;33m(\u001b[0m\u001b[1;33m)\u001b[0m\u001b[1;33m)\u001b[0m\u001b[1;33m\u001b[0m\u001b[1;33m\u001b[0m\u001b[0m\n\u001b[0m\u001b[0;32m     10\u001b[0m \u001b[0mscript\u001b[0m \u001b[1;33m=\u001b[0m \u001b[0msoup\u001b[0m\u001b[1;33m.\u001b[0m\u001b[0mfindAll\u001b[0m\u001b[1;33m(\u001b[0m\u001b[1;34m'script'\u001b[0m\u001b[1;33m)\u001b[0m\u001b[1;33m[\u001b[0m\u001b[1;36m1\u001b[0m\u001b[1;33m]\u001b[0m\u001b[1;33m.\u001b[0m\u001b[0mstring\u001b[0m\u001b[1;33m\u001b[0m\u001b[1;33m\u001b[0m\u001b[0m\n\u001b[0;32m     11\u001b[0m \u001b[0mdata\u001b[0m \u001b[1;33m=\u001b[0m \u001b[0mscript\u001b[0m\u001b[1;33m.\u001b[0m\u001b[0msplit\u001b[0m\u001b[1;33m(\u001b[0m\u001b[1;34m\"bootstrapData['menuMonthWeeks'] = \"\u001b[0m\u001b[1;33m,\u001b[0m \u001b[1;36m1\u001b[0m\u001b[1;33m)\u001b[0m\u001b[1;33m[\u001b[0m\u001b[1;33m-\u001b[0m\u001b[1;36m1\u001b[0m\u001b[1;33m]\u001b[0m\u001b[1;33m.\u001b[0m\u001b[0mrsplit\u001b[0m\u001b[1;33m(\u001b[0m\u001b[1;34m';'\u001b[0m\u001b[1;33m,\u001b[0m \u001b[1;36m1\u001b[0m\u001b[1;33m)\u001b[0m\u001b[1;33m[\u001b[0m\u001b[1;36m0\u001b[0m\u001b[1;33m]\u001b[0m\u001b[1;33m\u001b[0m\u001b[1;33m\u001b[0m\u001b[0m\n",
      "\u001b[1;32m~\\miniconda3\\envs\\scrap\\lib\\urllib\\request.py\u001b[0m in \u001b[0;36murlopen\u001b[1;34m(url, data, timeout, cafile, capath, cadefault, context)\u001b[0m\n\u001b[0;32m    220\u001b[0m     \u001b[1;32melse\u001b[0m\u001b[1;33m:\u001b[0m\u001b[1;33m\u001b[0m\u001b[1;33m\u001b[0m\u001b[0m\n\u001b[0;32m    221\u001b[0m         \u001b[0mopener\u001b[0m \u001b[1;33m=\u001b[0m \u001b[0m_opener\u001b[0m\u001b[1;33m\u001b[0m\u001b[1;33m\u001b[0m\u001b[0m\n\u001b[1;32m--> 222\u001b[1;33m     \u001b[1;32mreturn\u001b[0m \u001b[0mopener\u001b[0m\u001b[1;33m.\u001b[0m\u001b[0mopen\u001b[0m\u001b[1;33m(\u001b[0m\u001b[0murl\u001b[0m\u001b[1;33m,\u001b[0m \u001b[0mdata\u001b[0m\u001b[1;33m,\u001b[0m \u001b[0mtimeout\u001b[0m\u001b[1;33m)\u001b[0m\u001b[1;33m\u001b[0m\u001b[1;33m\u001b[0m\u001b[0m\n\u001b[0m\u001b[0;32m    223\u001b[0m \u001b[1;33m\u001b[0m\u001b[0m\n\u001b[0;32m    224\u001b[0m \u001b[1;32mdef\u001b[0m \u001b[0minstall_opener\u001b[0m\u001b[1;33m(\u001b[0m\u001b[0mopener\u001b[0m\u001b[1;33m)\u001b[0m\u001b[1;33m:\u001b[0m\u001b[1;33m\u001b[0m\u001b[1;33m\u001b[0m\u001b[0m\n",
      "\u001b[1;32m~\\miniconda3\\envs\\scrap\\lib\\urllib\\request.py\u001b[0m in \u001b[0;36mopen\u001b[1;34m(self, fullurl, data, timeout)\u001b[0m\n\u001b[0;32m    515\u001b[0m \u001b[1;33m\u001b[0m\u001b[0m\n\u001b[0;32m    516\u001b[0m         \u001b[0mreq\u001b[0m\u001b[1;33m.\u001b[0m\u001b[0mtimeout\u001b[0m \u001b[1;33m=\u001b[0m \u001b[0mtimeout\u001b[0m\u001b[1;33m\u001b[0m\u001b[1;33m\u001b[0m\u001b[0m\n\u001b[1;32m--> 517\u001b[1;33m         \u001b[0mprotocol\u001b[0m \u001b[1;33m=\u001b[0m \u001b[0mreq\u001b[0m\u001b[1;33m.\u001b[0m\u001b[0mtype\u001b[0m\u001b[1;33m\u001b[0m\u001b[1;33m\u001b[0m\u001b[0m\n\u001b[0m\u001b[0;32m    518\u001b[0m \u001b[1;33m\u001b[0m\u001b[0m\n\u001b[0;32m    519\u001b[0m         \u001b[1;31m# pre-process request\u001b[0m\u001b[1;33m\u001b[0m\u001b[1;33m\u001b[0m\u001b[1;33m\u001b[0m\u001b[0m\n",
      "\u001b[1;31mAttributeError\u001b[0m: 'Response' object has no attribute 'type'"
     ]
    }
   ],
   "source": [
    "import itertools\n",
    "from urllib.request import urlopen\n",
    "import json\n",
    "import re\n",
    "\n",
    "import json\n",
    "\n",
    "url = requests.get(\"https://www.missgrandthailand.com/portrait2019\")\n",
    "soup = BeautifulSoup(urlopen(url).read())\n",
    "script = soup.findAll('script')[1].string\n",
    "data = script.split(\"bootstrapData['menuMonthWeeks'] = \", 1)[-1].rsplit(';', 1)[0]\n",
    "data = json.loads(data)"
   ]
  },
  {
   "cell_type": "code",
   "execution_count": null,
   "id": "5e165df5-b03e-494b-a680-14fc4da14e7c",
   "metadata": {},
   "outputs": [],
   "source": []
  }
 ],
 "metadata": {
  "kernelspec": {
   "display_name": "Python 3.9.7 ('base')",
   "language": "python",
   "name": "python3"
  },
  "language_info": {
   "codemirror_mode": {
    "name": "ipython",
    "version": 3
   },
   "file_extension": ".py",
   "mimetype": "text/x-python",
   "name": "python",
   "nbconvert_exporter": "python",
   "pygments_lexer": "ipython3",
   "version": "3.9.7"
  },
  "vscode": {
   "interpreter": {
    "hash": "36f50b884fbbc1adf9d094f8901b7d3025a4239f1a143400693a505c64164106"
   }
  }
 },
 "nbformat": 4,
 "nbformat_minor": 5
}
